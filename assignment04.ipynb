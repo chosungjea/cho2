{
 "cells": [
  {
   "cell_type": "markdown",
   "metadata": {},
   "source": [
    "#과제04\n",
    "\n",
    "###2016136128 조성재\n",
    "\n",
    "    -01. 파일 s.txt 내의 다음 내용과 함께 아래 문제의 코드를 제시하시오.\n",
    "        pig ham\n",
    "        cat dog\n",
    "        ham bird\n",
    "        dog pig"
   ]
  },
  {
   "cell_type": "code",
   "execution_count": 1,
   "metadata": {
    "collapsed": true
   },
   "outputs": [],
   "source": [
    "import os\n",
    "\n",
    "s = \"\"\"pig ham\n",
    "cat dog\n",
    "ham bird\n",
    "dog pig\"\"\"\n",
    "f = open('s.txt', 'w')\n",
    "f.write(s)\n",
    "f.close()"
   ]
  },
  {
   "cell_type": "markdown",
   "metadata": {},
   "source": [
    "    ) 파일에 내용을 넣는 방법은 여러가지가 있지만 가장 간단한 방법을 이용하여 작성했다."
   ]
  },
  {
   "cell_type": "markdown",
   "metadata": {},
   "source": [
    "        - 1) 파일 s.txt을 읽어서 각 라인에 있는 첫 번째 단어(문자열) 자체들을 기준으로 라인별 정렬후 파일 s1.txt에 그 결과를 기록하는 코드를 작성하시오. 즉, 프로그램 수행 후 s1.txt에 있는 파일 내용은 다음과 같다.\n",
    "            cat dog\n",
    "            dog pig\n",
    "            ham bird\n",
    "            pig ham"
   ]
  },
  {
   "cell_type": "code",
   "execution_count": 2,
   "metadata": {
    "collapsed": true
   },
   "outputs": [],
   "source": [
    "f = open('s.txt')\n",
    "k = f.readlines()\n",
    "k.sort()\n",
    "l = []\n",
    "for a in k:\n",
    "    if('\\n' not in a):\n",
    "        a = a.replace(a, a+'\\n')\n",
    "    l.append(a)\n",
    "f1 = open('s1.txt', 'w')\n",
    "f1.writelines(l)\n",
    "f.close()\n",
    "f1.close()"
   ]
  },
  {
   "cell_type": "markdown",
   "metadata": {},
   "source": [
    "    ) readlines 메소드를 활용하여 각각을 리스트에 넣고 이것을 sort를 이용하여 알파벳 순으로 분류했다. 그리고 줄바꿈이 없는 문장이 있으면 추가하여 오류가 생기지 않도록 하였고 이를 새로운 리스트에 넣어서 새로운 파일에 저장하였다."
   ]
  },
  {
   "cell_type": "markdown",
   "metadata": {},
   "source": [
    "        - 2) 파일 s.txt을 읽어서 각 라인에 있는 두 번째 단어(문자열) 자체들을 기준으로 라인별 정렬후 파일 s2.txt에 그 결과를 기록하는 코드를 작성하시오. 즉, 프로그램 수행 후 s2.txt에 있는 파일 내용은 다음과 같다.\n",
    "            ham bird\n",
    "            cat dog\n",
    "            pig ham\n",
    "            dog pig"
   ]
  },
  {
   "cell_type": "code",
   "execution_count": 3,
   "metadata": {
    "collapsed": true
   },
   "outputs": [],
   "source": [
    "def cmp_by_each_element(a):\n",
    "    return a[1]\n",
    "f = open('s.txt')\n",
    "k = f.readlines()\n",
    "f.close()\n",
    "l = []\n",
    "for a in k:\n",
    "    if('\\n' not in a):\n",
    "        a = a.replace(a, a+'\\n')\n",
    "    l.append(a)\n",
    "l1 = []\n",
    "for b in l:\n",
    "    l1.append(b.split())\n",
    "    \n",
    "l1.sort(key=cmp_by_each_element)\n",
    "l = []\n",
    "for x,y in l1:\n",
    "    l.append(x+' '+y)\n",
    "f = open('s2.txt', 'w')\n",
    "f.write('\\n'.join(l))\n",
    "f.close()"
   ]
  },
  {
   "cell_type": "markdown",
   "metadata": {},
   "source": [
    "    ) 전에 배웠던 cmp_by_each_element를 이용하여 리스트의 2번째 원소에 접근하여 이를 기준으로 분류하였다. 그리고 이를 각각 다시 조합하여 이를 파일에 저장하였다."
   ]
  },
  {
   "cell_type": "markdown",
   "metadata": {},
   "source": [
    "        - 3) 파일 s.txt을 읽어서 각 라인들에 있는 모든 단어들을 순차적으로 다시 나열하되 각 라인에 세 개의 단어들이 오도록 하여 s3.txt에 기록하는 코드를 작성하시오. 즉, 프로그램 수행 후 s3.txt에 있는 파일 내용은 다음과 같다.\n",
    "            pig ham cat\n",
    "            dog ham bird\n",
    "            dog pig"
   ]
  },
  {
   "cell_type": "code",
   "execution_count": 4,
   "metadata": {
    "collapsed": true
   },
   "outputs": [],
   "source": [
    "f = open('s.txt')\n",
    "k = f.readlines()\n",
    "l = []\n",
    "f.close()\n",
    "for a in k:\n",
    "    if('\\n' in a):\n",
    "        a = a.strip()\n",
    "    l.append(a)\n",
    "l1 = []\n",
    "for b in l:\n",
    "    l1.append(b.split())\n",
    "l2 = []\n",
    "for x,y in l1:\n",
    "    l2.append(x)\n",
    "    l2.append(y)\n",
    "i = 1\n",
    "l1 = ''\n",
    "for a in l2:\n",
    "    if(i%3):\n",
    "        l1 = l1 + ' ' + a\n",
    "    else:\n",
    "        l1 = l1 + ' ' + a + '\\n'\n",
    "    i += 1\n",
    "f = open('s3.txt', 'w')\n",
    "f.write(l1)\n",
    "f.close()"
   ]
  },
  {
   "cell_type": "markdown",
   "metadata": {},
   "source": [
    "    ) 먼저 파일을 리스트로 받아들이고 '\\n'이 있으면 이를 다 없앤다. 그리고 이중 리스트에 있는 원소들을 풀어서 그냥 리스트로 바꾸는 작업을 한 후 3번째 원소에 '\\n'를 넣는 작업을 하고 이 리스트를 파일에 저장하면 된다."
   ]
  },
  {
   "cell_type": "markdown",
   "metadata": {},
   "source": [
    "    -02. 다음과 같은 조건들을 참고하여 회원 가입 및 로그인 프로그램을 작성하시오.\n",
    "        1) 프로그램 시작 후 다음과 같은 메시지가 출력되어 1, 2, 3 중 하나의 값을 입력 받도록 한다.\n",
    "            Welcome to Our Service\n",
    "            \n",
    "            1. Sign Up\n",
    "            2. Sign In\n",
    "            3. Quit\n",
    "            \n",
    "        2) 1을 선택하면 ID, Password, Name, School의 4가지 정보를 입력받아 파일에 저장하는 프로그램을 작성한다.\n",
    "            2-1) 입력된 내용은 access.txt 라는 이름의 텍스트 파일 내에 저장된다.\n",
    "            2-2) access.txt 파일의 각 라인에는 가입된 회원 각각의 정보가 \"[id]: [password], [name], [school]\" 형태로 저장된다.\n",
    "            2-3) 즉, 가입 회원이 10명이면 access.txt 파일 내에 라인 수도 정확히 10개이다.\n",
    "            2-4) 암호화 방식은 sha 모듈을 활용한다. sha 모듈 활용 방법은 본 문제의 마지막에 제시된 sha 활용 예를 참고한다.\n",
    "            즉, access.txt 파일 내에 password 정보는 암호화 되어 저장되어야 한다.\n",
    "            2-5) 회원 정보를 입력 받을 때 id를 입력 받은 직후 access.txt를 확인하여 이미 존재하는 id가 입력되었다면 다음 메시지를 출력하고 id 정보를 다시 입력받는다.\n",
    "            Sorry, the entered ID is already used.\n",
    "        \n",
    "        3) 2를 선택하면 ID, Password의 2가지 정보를 입력받는 프로그램을 작성한다.\n",
    "            3-1) 입력된 ID 정보가 access.txt에 존재하지 않으면 다음과 같은 메시지를 출력하고 다시 입력받는다.\n",
    "            Sorry, you are not a registered member.\n",
    "            3-2) 입력된 ID가 올바르게 존재하지만 Password 정보가 access.txt 파일에 있는 정보와 불일치하면 다음과 같은 메시지를 출력하고 Password를 다시 입력받는다.\n",
    "            Sorry, the entered password is not correct.\n",
    "            이 때에도 사용자가 입력한 Password 정보와 함께 sha 모듈이 활용되어야 한다.\n",
    "            3-3) 입력된 ID와 Password가 모두 올바르면 다음과 같은 메시지를 출력한다.\n",
    "            Hello [name]!\n",
    "            위 [name]에는 access.txt에 기록되어 있는 name 정보를 출력한다.\n",
    "            \n",
    "        4) 3을 선택하면 프로그램이 끝난다."
   ]
  },
  {
   "cell_type": "code",
   "execution_count": 6,
   "metadata": {},
   "outputs": [
    {
     "name": "stdout",
     "output_type": "stream",
     "text": [
      "Welcome to Our Service\n",
      "\n",
      "1. Sign Up\n",
      "2. Sign In\n",
      "3. Quit\n",
      "1\n",
      "id : cho\n",
      "password : 1324\n",
      "name : cho\n",
      "school : kkk\n",
      "Welcome to Our Service\n",
      "\n",
      "1. Sign Up\n",
      "2. Sign In\n",
      "3. Quit\n",
      "2\n",
      "id : cho\n",
      "password : 1324\n",
      "Hello [cho]!\n",
      "Welcome to Our Service\n",
      "\n",
      "1. Sign Up\n",
      "2. Sign In\n",
      "3. Quit\n",
      "3\n",
      "Program Exit\n"
     ]
    }
   ],
   "source": [
    "import hashlib\n",
    "\n",
    "def encrypted_password(s):\n",
    "    hasher = hashlib.sha1()\n",
    "    password_plain = s.encode('utf-8')\n",
    "    password_encrypted = hashlib.new(\"ripemd160\")\n",
    "    password_encrypted.update(password_plain)\n",
    "    return (password_encrypted.hexdigest())\n",
    "\n",
    "def print_():\n",
    "    print(\"Welcome to Our Service\")\n",
    "    print()\n",
    "    print(\"1. Sign Up\")\n",
    "    print(\"2. Sign In\")\n",
    "    print(\"3. Quit\")\n",
    "\n",
    "def select_menu(key):\n",
    "    if(key == 1):\n",
    "        \n",
    "        save_user_id()\n",
    "        save_user_password()\n",
    "        save_user_name()\n",
    "        save_user_school()\n",
    "    elif(key == 2):\n",
    "        sign_in()\n",
    "    elif(key == 3):\n",
    "        print(\"Program Exit\")\n",
    "    else:\n",
    "        print(\"ERORR\")\n",
    "        \n",
    "def save_user_id():\n",
    "    with open('access.txt', 'r') as f1:\n",
    "        s = f1.read()\n",
    "        while(True):\n",
    "            i = input(\"id : \")\n",
    "            with open('access.txt', 'a') as f:\n",
    "                if i in s:\n",
    "                    print(\"Sorry, the entered ID is already used.\")\n",
    "                    continue \n",
    "                else :\n",
    "                    ID = \"[\" + i + \"]: \"\n",
    "                    f.write(ID)\n",
    "                    break\n",
    "                \n",
    "def save_user_password():\n",
    "    with open('access.txt', 'r') as f1:\n",
    "        s = f1.read()\n",
    "        while (True):\n",
    "            i = input(\"password : \")\n",
    "            i = encrypted_password(i)\n",
    "            with open('access.txt', 'a') as f:\n",
    "                if (str(i) in s):\n",
    "                    print(\"Sorry, the entered password is already used.\")\n",
    "                    continue \n",
    "                else:\n",
    "                    password = \"[\" + str(i) + \"], \"\n",
    "                    f.write(password)\n",
    "                    break\n",
    "                \n",
    "def save_user_name():\n",
    "    with open('access.txt', 'r') as f1:\n",
    "        s = f1.read()\n",
    "        while (True):\n",
    "            i = input(\"name : \")\n",
    "            with open('access.txt', 'a') as f:\n",
    "                name = \"[\" + i + \"], \"\n",
    "                f.write(name)\n",
    "                break\n",
    "            \n",
    "def save_user_school():\n",
    "    with open('access.txt', 'r') as f1:\n",
    "        s = f1.read()\n",
    "        while(True):\n",
    "            i = input(\"school : \")\n",
    "            with open('access.txt', 'a') as f:\n",
    "                school = \"[\" + i + \"]\\n\"\n",
    "                f.write(school)\n",
    "                break\n",
    "            \n",
    "def sign_in():\n",
    "    ID = input(\"id : \")\n",
    "    password = input(\"password : \")\n",
    "    password = encrypted_password(password)\n",
    "    with open('access.txt', 'r') as f:\n",
    "        s = f.read()\n",
    "        s = s.split(\"\\n\")\n",
    "        for i in s:\n",
    "            if (ID in i):\n",
    "                if (password in i):\n",
    "                    i = i.split()\n",
    "                    i[2] = i[2].strip(\",\")\n",
    "                    print(\"Hello \" + i[2] + \"!\")\n",
    "                    return\n",
    "                else:\n",
    "                    print(\"Sorry, the entered password is not correct.\")\n",
    "                    return\n",
    "        else:\n",
    "            print(\"Sorry, you are not a registered member\")\n",
    "            return\n",
    "        \n",
    "def main_():\n",
    "    key = 0\n",
    "    while (key < 3):\n",
    "        print_()\n",
    "        key = int(input())\n",
    "        select_menu(key)\n",
    "        \n",
    "main_()"
   ]
  },
  {
   "cell_type": "markdown",
   "metadata": {},
   "source": [
    "    ) 먼저 sign up 함수를 아이디와 비밀번호, 이름과 학교를 파일에 저장하는 함수를 각각 따로 만들어서 조건에 맞게 부른다. 그리고 sign in 함수를 부를때는 함수를 부르고 이 리스트에서 비밀번호가 일치하는 것이 있으면 그 리스트의 이름을 찾아서 출력하게 했다. "
   ]
  },
  {
   "cell_type": "markdown",
   "metadata": {},
   "source": [
    "    -03. range() 함수와 유사한 frange() 함수를 다음 조건을 참고하여 만드시오.\n",
    "        1) frange()의 인자 구성은 다음과 같이 range와 동일하지만 각 인수들은 음수를 받지 않는다고 가정한다.\n",
    "            range(stop)\n",
    "            range(start, stop[, step])\n",
    "            \n",
    "        2) frange() 함수의 인자에 대한 기본 시작(start) 값은 0.0이고, 기본 단계(step) 값은 0.1이다.\n",
    "        3) frange 사용 예\n",
    "            3-1) frange(0.5)\n",
    "            [0.0, 0.1, 0.2, 0.3, 0.4]\n",
    "            3-2) frange(1.0, 2.0)\n",
    "            [1.0, 1.1, 1.2, 1.3, 1.4, 1.5, 1.6, 1.7, 1.8, 1.9]\n",
    "            3-3) frange(2.2, 4.0, 0.5)\n",
    "            [2.2, 2.7, 3.2, 3.7]\n",
    "            "
   ]
  },
  {
   "cell_type": "code",
   "execution_count": 8,
   "metadata": {
    "collapsed": true
   },
   "outputs": [],
   "source": [
    "def frange(*a):\n",
    "    l=[]\n",
    "    count = 0.0\n",
    "    if len(a) == 1:\n",
    "        start = 0.0\n",
    "        step = 0.1\n",
    "        stop = a[0]\n",
    "    elif len(a) == 2:\n",
    "        (start, stop) = a\n",
    "        step = 0.1\n",
    "    elif len(a) == 3:\n",
    "        (start, stop, step) = a\n",
    "    count = start\n",
    "    while stop > count:\n",
    "        l.append(count)\n",
    "        count = count + step\n",
    "    return l"
   ]
  },
  {
   "cell_type": "code",
   "execution_count": 9,
   "metadata": {},
   "outputs": [
    {
     "name": "stdout",
     "output_type": "stream",
     "text": [
      "[0.0, 0.1, 0.2, 0.30000000000000004, 0.4]\n",
      "[1.0, 1.1, 1.2000000000000002, 1.3000000000000003, 1.4000000000000004, 1.5000000000000004, 1.6000000000000005, 1.7000000000000006, 1.8000000000000007, 1.9000000000000008]\n",
      "[2.2, 2.7, 3.2, 3.7]\n"
     ]
    }
   ],
   "source": [
    "print(frange(0.5))\n",
    "print(frange(1.0, 2.0))\n",
    "print(frange(2.2, 4.0, 0.5))"
   ]
  },
  {
   "cell_type": "markdown",
   "metadata": {},
   "source": [
    "    ) frange 함수를 정의하고 변수를 가변인수로 받아서 그 가변인수릐 갯수를 판별하여 그에 맞는 역할을 수행하도록 만들었다. 그런데 0.30000000000000004같은 계산으로는 나올수 없는 수가 나오는 것을 보아 파이선은 소수를 테이터 저장하는 것에 약간의 오류가 있는 것 같다."
   ]
  },
  {
   "cell_type": "markdown",
   "metadata": {},
   "source": [
    "    -04. 가변인수를 받는 함수 sum()을 다음과 같은 조건을 참고하여 구현하시오\n",
    "        sum() 사용 예\n",
    "            sum()\n",
    "            0\n",
    "            sum(1, 2)\n",
    "            3\n",
    "            sum(1, 2, 3, 4, 5)\n",
    "            15\n",
    "            sum(1, 5, 7, 2, -10)\n",
    "            5"
   ]
  },
  {
   "cell_type": "code",
   "execution_count": 78,
   "metadata": {
    "collapsed": true
   },
   "outputs": [],
   "source": [
    "def sum(*a):\n",
    "    x = 0 \n",
    "    for i in range(len(a)):\n",
    "        x += a[i]\n",
    "    return x"
   ]
  },
  {
   "cell_type": "markdown",
   "metadata": {},
   "source": [
    "    ) sum함수를 가변인수를 사용하여 만들었다. 3번 문제보다 매우 갼략하여 만들기 쉬웠다."
   ]
  },
  {
   "cell_type": "markdown",
   "metadata": {},
   "source": [
    "    -05. 여러 단어로 이루어진 문자열을 입력받아 각 단어의 첫글자로 이루어진 단어를 대문자로 출력하는 myinitial() 함수를 다음 조건을 참고하여 작성하시오.\n",
    "        1) 다음에 제시되는 함수들을 모두 이용해야 한다.\n",
    "        split\n",
    "        map\n",
    "        join\n",
    "        2) myinitial() 함수 사용 예\n",
    "        myinitial(\"as soon as possible\")\n",
    "        ASAP"
   ]
  },
  {
   "cell_type": "code",
   "execution_count": 10,
   "metadata": {},
   "outputs": [
    {
     "name": "stdout",
     "output_type": "stream",
     "text": [
      "CSJ\n"
     ]
    }
   ],
   "source": [
    "def Upper(s):\n",
    "    return s.upper()\n",
    "\n",
    "def myinitial(s):\n",
    "    s = s.split()\n",
    "    for i in range(len(s)):\n",
    "        s[i] = s[i][0]\n",
    "    s = list(map(Upper, s))\n",
    "    s = \"\".join(s)\n",
    "    return s\n",
    "\n",
    "print(myinitial(\"cho sung jea\"))"
   ]
  },
  {
   "cell_type": "markdown",
   "metadata": {
    "collapsed": true
   },
   "source": [
    "    ) 먼저 문자열을 공백을 기준으로 분리하고 그것의 첫번째를 map을 아용하여 대문자화 시킨다. 그리고 이를 join하여 리턴하면 된다."
   ]
  },
  {
   "cell_type": "markdown",
   "metadata": {},
   "source": [
    "    -06. 음이 아닌 정수 n를 입력받으면 n! (factorial)을 계산하는 myfact() 함수를 재귀적 함수로 구현하시오.\n",
    "        [옵션] 참을 수 있는 정도 만큼의 수행시간을 직접 기다려보면서 n을 늘려보도록 합시다."
   ]
  },
  {
   "cell_type": "code",
   "execution_count": 25,
   "metadata": {},
   "outputs": [
    {
     "name": "stdout",
     "output_type": "stream",
     "text": [
      "1398482541782935643804076691560480889915998440155817289184424361471088554831945426769627793564422182417055106164687328968800337838015092091902426708062585754575758761840629101148022202088616791912489053482866845368492689362680348653796205483555373854592456218070694691705525740396798705940868646724824284207093151611109576110720548444329317710216110647877991896226422491521850828595540404858022075949677336135888382223667261520227307746590278225849364822818688836257463054227780939230451103538710215851987205677537048482160223572199279284117451224132373001283371301327748829720294520197304170767712014548861589250006845399476495213899063451656157650046959183486755881486521917991465353136174132572085159554294308742343997607375110074558336621161865669641233890984526944612898577907685789137489893983148709227096968737623566896040242263207335675963585922754508701637571117210471564252770570750986133957864067854642461333055446897356256150227759705161144342074998081690812845683437831834697577243723598629942007502158280264176806534264401532973204717702416909416881338635446682316115641175873267562660403190728153051309523731329937953128064805704669965310761454031007380577278555676647463602920304388801983631722813659620707911156485861041283361984654669874236982608585132243947301552513613611220015558453448924690739929122514945064605460031495266893341079448598602888778912070021944443316296980075190303839112675319752345427865151848929296445310091170773808682347150322723856486107805316543473255318746117468843202152153020851636933294448384581108333226009129599161980428471679024129941277718802294844225208011510362580468464079539685857597219536595114366720698051081028644017686258454536950017818406904897903310294734749680357539808121993820966632438607133926895767650158824385429998931170890049739411385071900802105888683110544033206102184261669482758401109754069003250076283022582711306994996277879328045961071730358543540500962142907125663566830842880290774899152437963716454512427624332124652969580549126054320287541325135782164668167493343515686764514235963736449314315122164198258363850671212708602703180299255302930935371174390553238003525108112573507911441672412518463779635200000000000000000000000000000000000000000000000000000000000000000000000000000000000000000000000000000000000000000000000000000000000000000000000000000000000000000000000000000000000000000000000000000000000000000000000000000000000000000000\n"
     ]
    }
   ],
   "source": [
    "def myfact(a):\n",
    "    if a < 0:\n",
    "        return\n",
    "    if a == 0:\n",
    "        return 0\n",
    "    if a == 1:\n",
    "        return 1\n",
    "    return a * myfact(a-1)\n",
    "print(myfact(950))"
   ]
  },
  {
   "cell_type": "markdown",
   "metadata": {},
   "source": [
    "    ) myfact함수를 만들어서 재귀적 방법으로 구현하였다. 지금 입력한 수보다 큰수를 입력하면 오류가 뜬다. 왜그런지는 모르겠다."
   ]
  },
  {
   "cell_type": "markdown",
   "metadata": {},
   "source": [
    "    -07. (서술형) import string 과 from string import * 의 차이점을 설명하시오."
   ]
  },
  {
   "cell_type": "markdown",
   "metadata": {},
   "source": [
    "    ) import string 은 string의 모든 함수를 불러온다. 함수를 이용하려면 string.을 붙이고 사용해야한다. 반면에 from string import *를 사용하면 앞에 string.을 붙이지 않고 함수들을 사용할 수 있다. "
   ]
  },
  {
   "cell_type": "markdown",
   "metadata": {},
   "source": [
    "    -08. 이전 Assignment 3의 마지막 문제는 웹 URL로 지정된 웹페이지를 문자열로 가져와 모든 HTML 태그 및 CSS와 Javascript를 제외한 순수 텍스트를 얻어내고 그 안에 존재하는 단어를 추출하여 각 단어들에 대해 출현빈도를 사전형태({'world': 2, 'hello': 1, 'python': 1})로 저장하여 출력하는 것이었다. 이번에는 Assignment 3를 확장하여 다음과 같은 조건을 만족하도록 구현하시오.\n",
    "        1) 다음 사이트에서 제시되는 영어 불용어 (Stop words)를 참고하여 이전 숙제에서 구성했던 단어 사전에서 영어 불용어들을 모두 제거하는 코드를 추가하시오.\n",
    "\n",
    "        http://www.lextek.com/manuals/onix/stopwords1.html\n",
    "        \n",
    "        2) 각 URL로 지정된 웹페이지의 HTML 소스를 파일로 저장하시오.\n",
    "\n",
    "        URL이 http://URL 이라면 파일명은 URL.html 이다.\n",
    "        예: URL이 http://www.cnn.com 이라면 파일명은 www.cnn.com.html 이다.\n",
    "        \n",
    "        3) 단어의 출현빈도가 담긴 사전 객체를 위 HTML 소스 파일과 동일한 폴더에 파일로 저장하시오.\n",
    "        파일입출력 (E-learning 13주차) 마지막에 학습한 pickle 모듈을 활용하시오.\n",
    "        URL이 http://URL 이라면 사전 객체를 담고 있는 파일명은 URL.words.frequency 이다.\n",
    "        예: URL이 http://www.cnn.com 이라면 파일명은 www.cnn.com.words.frequency 이다.\n",
    "        \n",
    "        4) 최소 5개 이상의 영어 웹 사이트 각각에 대한 HTML 소스 파일과 단어 출현빈도 파일을 저장하시오.\n",
    "        즉, 총 10개의 파일을 동일한 폴더에 생성하시오.\n",
    "        [주의] 영어 웹사이트 URL로만 5개 이상\n",
    "        가능하면 주제가 서로 다른 웹 사이트들로 선정\n",
    "        \n",
    "        5) 위 문제에서 저장한 모든 words.frequency 파일들을 객체로 다시 로드하여 본인이 저장하여 분석한 사이트들 각각에 대해서 가장 많이 출현한 단어 3개씩를 뽑아 제시하시오.\n",
    "        반드시 pickle 모듈로 저장한 5개 이상의 words.frequency를 다시 5개 이상의 사전 객체로 로드 하는 코드가 추가되어야 함\n",
    "        \n",
    "        6) 간단한 검색엔진 코딩 (Like Google!!!)\n",
    "        사용자에게 임의의 단어 1개를 입력받으시오.\n",
    "        입력 받은 단어와 유사도(Similarity)가 높은 웹 사이트 기준으로 위 4)에서 미리 지정해 놓은 5개 이상의 웹 사이트 URL들을 일렬로 나열하여 출력하시오.\n",
    "            단어와 웹 사이트 간의 유사도는 본인이 스스로 정하시오.\n",
    "            유사도를 정하는 최소한의 기준은 단어 출현 빈도를 기반으로 해야 하며, 이외의 본인이 생각하는 방안이 있으면 함께 사용해도 됨.\n",
    "            반드시 코딩 내에 similarity 라는 사전 자료 구조가 있어야 함 (즉, 다음과 유사한 코드가 있어야 함).\n",
    "                similarity = {}\n",
    "                ...\n",
    "                similarity[url1] = x1\n",
    "                ...\n",
    "                similarity[url2] = x2\n",
    "                ...\n",
    "            위 코드에서 x1 과 x2는 입력단어와 해당 URL의 웹 사이트 간의 similarity를 나타내는 수치값\n",
    "        유사도가 높은 웹 사이트가 상위에 출력되어야 함 (즉, 유사도 기준 내림 차순)\n",
    "        유사도가 동일한 웹 사이트들에 대해서는 임의 배치함.\n",
    "        \n",
    "        7) [주의] 필수사항\n",
    "        위에서 만든 검색엔진 코딩은 매우 간단한 것이라 부족한 점이 많이 존재한다.\n",
    "        본인이 생각하기에 상업적인 완성도 높은 검색 로봇/엔진이 되려면 어떤 기능들이 추가적으로 구현되어야 할지 최소 3가지 이상 제시하시오."
   ]
  },
  {
   "cell_type": "code",
   "execution_count": 31,
   "metadata": {},
   "outputs": [],
   "source": [
    "# -*- coding:utf-8 -*-\n",
    "from urllib import request \n",
    "import pickle\n",
    "\n",
    "def html_java_script_and_style_del(html_source):\n",
    "    s1 = \"\"\n",
    "    switch = False\n",
    "    switch2 = 0\n",
    "    start = 0\n",
    "    end = 0\n",
    "    for i in range(len(html_source)):\n",
    "        if switch2 == False:\n",
    "            html_source = html_source[:start] + (end - start)*\" \" + html_source[end:]\n",
    "            switch2 = True\n",
    "        if html_source[i] == '<':\n",
    "            switch = True\n",
    "            s1 = \"\"\n",
    "        if switch == True:\n",
    "            s1 = s1 + html_source[i]    \n",
    "        if s1 == '<script' or s1 == '<style' :\n",
    "            switch2 = True\n",
    "            if s1 == '<script':\n",
    "                start = i-6\n",
    "            else :\n",
    "                start = i-5\n",
    "        if s1 == '</script' or s1 == '</style':\n",
    "            switch2 =False\n",
    "            if s1 == '</script':\n",
    "                end = i-7\n",
    "            else :\n",
    "                end = i-6\n",
    "        if html_source[i] == '>':\n",
    "            switch = False\n",
    "    return html_source\n",
    "\n",
    "def html_code_del(html_source):\n",
    "    count = 0\n",
    "    switch = 0\n",
    "    for i in html_source:\n",
    "        if i == '<':\n",
    "            switch = True\n",
    "        if switch == True:\n",
    "            html_source = html_source[:count] + ' ' + html_source[count+1:]\n",
    "        if i == '>':\n",
    "            switch = False\n",
    "        count = count + 1\n",
    "    wordList = html_source.split()\n",
    "    return wordList\n",
    "\n",
    "import string\n",
    "def punctuation_del(List):\n",
    "    punctuationList = [string.punctuation[i] for i in range(len(string.punctuation))]\n",
    "    for i in range(len(List)):\n",
    "        for j in range(len(List[i])):\n",
    "            for k in range(len(punctuationList)):\n",
    "                if List[i][j] == punctuationList[k]:\n",
    "                    List[i] = List[i][:j] + \" \" + List[i][j+1:]\n",
    "    List = \" \".join(List)\n",
    "    List = List.split()\n",
    "    return List\n",
    "\n",
    "def same_string_num(List):\n",
    "    listValue = []\n",
    "    for i in range(len(List)):\n",
    "        count = 0\n",
    "        for j in range(len(List)):\n",
    "            if List[i] == List[j]:\n",
    "                count = count + 1\n",
    "        listValue.append(count)\n",
    "    totalList = zip(List, listValue)\n",
    "    return totalList\n",
    "\n",
    "\n",
    "#영어 불용어를 제거하는 함수\n",
    "def dict_del_stopWords(wordListForDict): \n",
    "    k = open('stopWords.txt', 'w')\n",
    "    with open('stopWords.txt', 'r') as f: \n",
    "        stopWordList = f.read()\n",
    "    stopLowWordList = stopWordList.split() \n",
    "    stopUpperWordList = list(map(Capitalize, stopLowWordList)) \n",
    "    for i in stopLowWordList:   \n",
    "        if i in wordListForDict:\n",
    "            del wordListForDict[i]\n",
    "    for j in stopUpperWordList: \n",
    "        if j in wordListForDict:\n",
    "            del wordListForDict[j]\n",
    "    return wordListForDict\n",
    "\n",
    "def Capitalize(s): \n",
    "    return s.capitalize()\n",
    "#html소스를 파일로 저장하는 함수.\n",
    "def html_source_save(site_url, source):  \n",
    "    url = site_url.split(\"//\")  \n",
    "    with open(url[1] + '.html', 'w', encoding='utf8') as file: \n",
    "        file.write(source)\n",
    "\n",
    "def pickling_dict_word(wordListForDict, site_url):\n",
    "    url = site_url.split(\"//\") \n",
    "    with open(url[1] + '.words.frequency', 'wb') as file:  \n",
    "        pickle.dump(wordListForDict, file)   \n",
    "\n",
    "def unpickling_dict_word(site_url):\n",
    "    url = site_url.split(\"//\") \n",
    "    with open(url[1] + '.words.frequency','rb') as file:\n",
    "        return pickle.load(file)\n",
    "#사전의 값을 정렬하여 가장 값이 큰 3개의 단어를 보여주는 함수\n",
    "def three_words_list(s): \n",
    "    s = s.items()\n",
    "    s = sorted(s, key = element_2, reverse = True)\n",
    "    List = [s[x][0] for x in range(3)] \n",
    "    return List\n",
    "#sorted함수의 정렬기준을 바꿀 함수\n",
    "def element_2(a):\n",
    "    return a[1]\n",
    "#메인 함수\n",
    "def main_system(site_url): \n",
    "    url = site_url\n",
    "    f = request.urlopen(url)\n",
    "    source_bytes = f.read()\n",
    "    source = source_bytes.decode('utf-8')\n",
    "    html_source_save(site_url, source)\n",
    "    source = source.strip()\n",
    "    wordList = html_java_script_and_style_del(source)\n",
    "    wordList = html_code_del(wordList)\n",
    "    wordList = punctuation_del(wordList)\n",
    "    wordListForDict= dict(same_string_num(wordList))\n",
    "    wordListForDict = dict_del_stopWords(wordListForDict)\n",
    "    pickling_dict_word(wordListForDict, url)\n",
    "    return wordListForDict\n",
    "\n",
    "#단어를 검색하는 함수\n",
    "def searchRobot():\n",
    "    word = input()\n",
    "    count = 0 \n",
    "    index = 0 \n",
    "    similarity = {}\n",
    "    nytimes = unpickling_dict_word('http://www.nytimes.com') \n",
    "    stackOverFlow = unpickling_dict_word('https://www.stackoverflow.com')\n",
    "    nature = unpickling_dict_word('http://www.nature.com')\n",
    "    steam  = unpickling_dict_word('http://store.steampowered.com')\n",
    "    oxfam  = unpickling_dict_word('https://www.oxfam.org')\n",
    "    \n",
    "    siteList = [nytimes, stackOverFlow, nature, steam, oxfam]  \n",
    "    siteUrl = ['http://www.nytimes.com', 'https://www.stackoverflow.com',\\\n",
    "               'http://www.nature.com', 'http://store.steampowered.com', 'https://www.oxfam.org']\n",
    "    for i in siteList:  \n",
    "        for j in i:     \n",
    "            if j.find(word) != -1:\n",
    "                count = count + i[j]\n",
    "        similarity[siteUrl[index]] = count\n",
    "        count = 0\n",
    "        index = index + 1\n",
    "    similarityList = sorted(similarity.items(), key = element_2, reverse = True) \n",
    "    for i in range(len(similarityList)): \n",
    "        print(similarityList[i][0])"
   ]
  },
  {
   "cell_type": "code",
   "execution_count": 32,
   "metadata": {},
   "outputs": [],
   "source": [
    "nytimes = main_system('http://www.nytimes.com')\n",
    "stackOverFlow = main_system('https://www.stackoverflow.com')\n",
    "nature = main_system('http://www.nature.com')\n",
    "steam = main_system('http://store.steampowered.com')\n",
    "oxfam = main_system('https://www.oxfam.org')"
   ]
  },
  {
   "cell_type": "code",
   "execution_count": 33,
   "metadata": {},
   "outputs": [
    {
     "name": "stdout",
     "output_type": "stream",
     "text": [
      "['the', 'to', 'of']\n",
      "['0', 'ago', 'views']\n",
      "['and', 'of', 'Nature']\n",
      "['₩', '000', 'nbsp']\n",
      "['Oxfam', 'in', 'and']\n"
     ]
    }
   ],
   "source": [
    "nytimes = unpickling_dict_word('http://www.nytimes.com')\n",
    "stackOverFlow = unpickling_dict_word('https://www.stackoverflow.com')\n",
    "nature = unpickling_dict_word('http://www.nature.com')\n",
    "steam  = unpickling_dict_word('http://store.steampowered.com')\n",
    "oxfam  = unpickling_dict_word('https://www.oxfam.org')\n",
    "print(three_words_list(nytimes))\n",
    "print(three_words_list(stackOverFlow))\n",
    "print(three_words_list(nature))\n",
    "print(three_words_list(steam))\n",
    "print(three_words_list(oxfam))"
   ]
  },
  {
   "cell_type": "code",
   "execution_count": 36,
   "metadata": {
    "scrolled": true
   },
   "outputs": [
    {
     "name": "stdout",
     "output_type": "stream",
     "text": [
      "game\n",
      "http://store.steampowered.com\n",
      "https://www.stackoverflow.com\n",
      "http://www.nytimes.com\n",
      "http://www.nature.com\n",
      "https://www.oxfam.org\n"
     ]
    }
   ],
   "source": [
    "searchRobot()"
   ]
  },
  {
   "cell_type": "markdown",
   "metadata": {},
   "source": [
    "    )먼저 저번 과제의 연장선이여서 저번 과제를 못했기 때문에 코딩을 하기 어려웠다. 그 저번 과제까지 코딩을 하고 영어 불용어를 제거하기 위해 함수를 새로 만들었다. 이는 대문자 일 수도 있기 때문에 이를 고려하여 제거하였다. 그리고 가장 많은 단어를 선별하는 함수도 따로 만들고 출력하였다. 그런데 '0'이라던지 하는 것들이 많이 나온것 같아서 좀 더 견고하게 프로그램을 만들어야겠다는 생각이 든다. 하지만 너무 고려해야 할것도 많고 코딩도 무척 길어서 힘들었다. 검색은 game으로 해봤는데 당연히 스팀이 첫번째로 나와서 다행이였다. 게임 사이트이니 당연한 결과였다."
   ]
  },
  {
   "cell_type": "markdown",
   "metadata": {},
   "source": [
    "    필수사항: 우선 하면서 제일 많이 느낀점은 단어만 검색가능하다는 점이다. 예를 들어 'nice day'같은 연결되는 단어는 검색할 수 없다는 것이 실용성이 떨어지는 것 같다. 두번째는 응용성이 떨어지는것 같다. 'nature' 이나 'naturation' 즉 비슷한 단어의 기준이나 계산을 해야하는 방법이 정하기가 매우 어려운 것 같다. 세번째로 연관검색어 기능이다. 인터넷에서 가장 중요한 기능인 것 같은데 이를 구현하기 위해서 어떻게 해야 하는지 생각해야 할 것이 너무 많은 것 같다."
   ]
  },
  {
   "cell_type": "markdown",
   "metadata": {},
   "source": [
    "    느낌점:  솔직히 너무 해야할 것이 많았다. 어렵고 복잡했다. 초반에 놓치면 따라가기가 너무 벅차다."
   ]
  },
  {
   "cell_type": "code",
   "execution_count": null,
   "metadata": {
    "collapsed": true
   },
   "outputs": [],
   "source": []
  }
 ],
 "metadata": {
  "kernelspec": {
   "display_name": "Python 3",
   "language": "python",
   "name": "python3"
  },
  "language_info": {
   "codemirror_mode": {
    "name": "ipython",
    "version": 3
   },
   "file_extension": ".py",
   "mimetype": "text/x-python",
   "name": "python",
   "nbconvert_exporter": "python",
   "pygments_lexer": "ipython3",
   "version": "3.6.1"
  }
 },
 "nbformat": 4,
 "nbformat_minor": 2
}
