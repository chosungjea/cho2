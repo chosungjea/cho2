{
 "cells": [
  {
   "cell_type": "markdown",
   "metadata": {},
   "source": [
    "#과제02\n",
    "\n",
    "###2016136128 조성재\n",
    "\n",
    "    -01. 다음 6 개의 Expression에 대해 Evaluation 결과 값을 출력하고, 해당 결과가 나온 이유에 대해 설명하시오.\n",
    "        * 1 and 2 and 3 and 4"
   ]
  },
  {
   "cell_type": "code",
   "execution_count": 13,
   "metadata": {},
   "outputs": [
    {
     "name": "stdout",
     "output_type": "stream",
     "text": [
      "4\n"
     ]
    }
   ],
   "source": [
    "print(1 and 2 and 3 and 4)"
   ]
  },
  {
   "cell_type": "markdown",
   "metadata": {},
   "source": [
    "    - 왼쪽부터 차례대로 and연산을 한다. 1 and 2는 2이고 2 and 3은 3 그리고 3 and 4는 4 즉 결과값은 4이다.\n",
    "        * 1 or 2 or 3 or 4"
   ]
  },
  {
   "cell_type": "code",
   "execution_count": 11,
   "metadata": {},
   "outputs": [
    {
     "name": "stdout",
     "output_type": "stream",
     "text": [
      "1\n"
     ]
    }
   ],
   "source": [
    "print(1 or 2 or 3 or 4)"
   ]
  },
  {
   "cell_type": "markdown",
   "metadata": {},
   "source": [
    "    - 왼쪽부터 차례로 or연산을 한다. 1 or 2는 1이고 1 or 3은 1 그리고 1 or 4는 1이므로 결과값은 1이다.\n",
    "        * 1 and 2 or 3 and 4"
   ]
  },
  {
   "cell_type": "code",
   "execution_count": 17,
   "metadata": {},
   "outputs": [
    {
     "name": "stdout",
     "output_type": "stream",
     "text": [
      "2\n"
     ]
    }
   ],
   "source": [
    "print(1 and 2 or 3 and 4)"
   ]
  },
  {
   "cell_type": "markdown",
   "metadata": {},
   "source": [
    "    - and연산이 or연산보다 먼저 시행되므로 2 or 4가 되고 이는 결과값이 2가 된다.\n",
    "        * (1 and 2) or (3 and 4)"
   ]
  },
  {
   "cell_type": "code",
   "execution_count": 18,
   "metadata": {},
   "outputs": [
    {
     "name": "stdout",
     "output_type": "stream",
     "text": [
      "2\n"
     ]
    }
   ],
   "source": [
    "print((1 and 2) or (3 and 4))"
   ]
  },
  {
   "cell_type": "markdown",
   "metadata": {},
   "source": [
    "    - and와 or의 연산순서 때문에 위의 문제와 연산이 똑같은 문제이다. 즉 결과는 2로 동일하다. \n",
    "        * 1 or 2 and 3 or 4"
   ]
  },
  {
   "cell_type": "code",
   "execution_count": 19,
   "metadata": {},
   "outputs": [
    {
     "name": "stdout",
     "output_type": "stream",
     "text": [
      "1\n"
     ]
    }
   ],
   "source": [
    "print(1 or 2 and 3 or 4)"
   ]
  },
  {
   "cell_type": "markdown",
   "metadata": {},
   "source": [
    "    - and연산 부터 하면 1 or 3 or 4이고 이는 계산하면 1이 나온다.\n",
    "        * (1 or 2) and (3 or 4)"
   ]
  },
  {
   "cell_type": "code",
   "execution_count": 229,
   "metadata": {},
   "outputs": [
    {
     "name": "stdout",
     "output_type": "stream",
     "text": [
      "3\n"
     ]
    }
   ],
   "source": [
    "print((1 or 2) and (3 or 4))"
   ]
  },
  {
   "cell_type": "markdown",
   "metadata": {},
   "source": [
    "    - 괄호 계산을 하면 1 and 3이 되고 이를 계산하면 3이 나온다.\n",
    "    \n",
    "    -02. 경로에 해당하는 문자열 1개를 입력 받아 그 안에 디렉토리 경로명과 파일명을 분리하여 리스트로 반환하는 함수 div_path(s)를 작성하시오.\n",
    "        * 인자로 전달하는 문자열은 경로만 들어간다고 가정한다.\n",
    "        * 각 디렉토리와 파일을 구분하는 문자는 '/'로 가정한다.\n",
    "        * 반환하는 리스트의 첫번째 원소는 디렉토리이고 두번째 원소는 파일명이다.\n",
    "        * 다음과 같은 실행 및 출력 결과가 도출되어야 한다.\n",
    "            + div_path('/usr/local/bin/python')\n",
    "                ['/usr/local/bin', 'python']\n",
    "            + div_path('/home/chulsoo/test.txt')\n",
    "                ['/home/chulsoo', 'test.txt']\n",
    "        * [참고] 리스트(l) 내에 새로운 정수값 (예를 들어 10)을 넣는 방법은 l.append(10) 이다."
   ]
  },
  {
   "cell_type": "code",
   "execution_count": 230,
   "metadata": {
    "scrolled": true
   },
   "outputs": [
    {
     "name": "stdout",
     "output_type": "stream",
     "text": [
      "['/usr/local/bin', 'python']\n",
      "['/home/chulsoo', 'test.txt']\n"
     ]
    }
   ],
   "source": [
    "def div_path(s):\n",
    "    l = s.split('/')\n",
    "    a = l[:-1]\n",
    "    b = l[-1:]\n",
    "    a2 = '/'.join(a)\n",
    "    return a2.split() + b\n",
    "\n",
    "print ( div_path('/usr/local/bin/python') )\n",
    "print ( div_path('/home/chulsoo/test.txt'))"
   ]
  },
  {
   "cell_type": "markdown",
   "metadata": {},
   "source": [
    "    -'/'으로 문자열을 나누고 이를 알맞게 나눠서 출력한다."
   ]
  },
  {
   "cell_type": "markdown",
   "metadata": {},
   "source": [
    "    -03. 두 개의 리스트를 인자로 받아서 그 두 개의 리스트에 대한 '합집합'을 반환하는 함수 list_union(lista, listb)를 작성하시오.\n",
    "        * 인자로 전달하는 리스트 2 개에는 정수값만 들어간다고 가정하자.\n",
    "        * 함수 내에서 새로운 리스트를 만들어 그 리스트 내에 인자로 받은 두 리스트의 모든 원소를 넣어 반환한다.\n",
    "        * 반환하는 리스트에는 절대로 중복된 원소가 들어 있으면 안된다 (집합의 조건).\n",
    "        * 반환하는 리스트는 정렬이 되어 있어야 한다.\n",
    "        * 다음과 같은 실행 및 출력 결과가 도출되어야 한다.\n",
    "            + list_union([1, 2, 3], [1, 2, 4])\n",
    "                [1, 2, 3, 4]\n",
    "            + list_union([-10, -5, 0, -1], [100, 9, 0, 9])\n",
    "                [-10, -5, -1, 0, 9, 100]\n",
    "            + list_union([0, 1, 2], [0, 1, 2])\n",
    "                [0, 1, 2]\n",
    "        * [참고] 리스트(l) 내에 새로운 정수값 (예를 들어 10)을 넣는 방법은 l.append(10) 이다.\n",
    "        * [참고] 임의의 정수값 (x)이 리스트 (l) 내에 존재하는지 판단하는 방법은 x in l 이다."
   ]
  },
  {
   "cell_type": "code",
   "execution_count": 231,
   "metadata": {
    "scrolled": true
   },
   "outputs": [
    {
     "name": "stdout",
     "output_type": "stream",
     "text": [
      "[1, 2, 3, 4]\n",
      "[-10, -5, -1, 0, 9, 100]\n",
      "[0, 1, 2]\n"
     ]
    }
   ],
   "source": [
    "def list_union(lista, listb):\n",
    "    tmp = []\n",
    "    s =max(len(lista), len(listb))\n",
    "    for x in range(s):\n",
    "        if( not(lista[x] in tmp)):\n",
    "            tmp.append(lista[x])\n",
    "        if( not(listb[x] in tmp)):\n",
    "            tmp.append(listb[x])\n",
    "    return sorted(tmp)\n",
    "    \n",
    "print (list_union([1,2,3], [1,2,4]))\n",
    "print( list_union([-10, -5, 0, -1], [100, 9, 0, 9]))\n",
    "print (list_union([0, 1, 2], [0, 1, 2]))"
   ]
  },
  {
   "cell_type": "markdown",
   "metadata": {},
   "source": [
    "    -list메소드를 사용하여 알맞게 교집합을 구하였다."
   ]
  },
  {
   "cell_type": "markdown",
   "metadata": {},
   "source": [
    "    -04. [ACM-ICPC 문제 1110번]"
   ]
  },
  {
   "cell_type": "markdown",
   "metadata": {},
   "source": [
    "![1110번](https://raw.githubusercontent.com/chosungjea/cho2/master/222.png)"
   ]
  },
  {
   "cell_type": "markdown",
   "metadata": {},
   "source": [
    "    -05. [Incremental Project] 웹 URL로 지정된 웹페이지를 문자열로 가져와 1) 모든 HTML 태그를 제외한 순수 텍스트 문자열만을 걸러내고, 2) 그 순수 텍스트 문자열 안에 존재하는 단어가 총 몇개인지 출력하는 프로그램을 작성하시오.\n",
    "    "
   ]
  },
  {
   "cell_type": "code",
   "execution_count": 279,
   "metadata": {},
   "outputs": [
    {
     "name": "stdout",
     "output_type": "stream",
     "text": [
      "<\n"
     ]
    }
   ],
   "source": [
    "from urllib import request \n",
    " \n",
    "url = 'http://cse.koreatech.ac.kr'\n",
    "f = request.urlopen(url)\n",
    "source_bytes = f.read()\n",
    "source = source_bytes.decode('utf-8')\n",
    "c=source.strip()\n",
    "cc=source.split()\n",
    "cnt = 0\n",
    "print(cc[0][0])\n",
    "\n",
    "\n",
    "#print(type(source_bytes))\n",
    "#print(type(source))"
   ]
  },
  {
   "cell_type": "code",
   "execution_count": 284,
   "metadata": {},
   "outputs": [
    {
     "name": "stdout",
     "output_type": "stream",
     "text": [
      "[]\n"
     ]
    }
   ],
   "source": [
    "ff = []\n",
    "for x in range(len(cc)):\n",
    "    if('<' == cc[x][0]):\n",
    "        \n",
    "        cnt = 1\n",
    "        continue\n",
    "    if(cnt==1):\n",
    "        \n",
    "        continue\n",
    "    if('>' == cc[x][-1]):\n",
    "        \n",
    "        cnt = 0\n",
    "        continue\n",
    "    ff.extend([cc[x]])\n",
    "print(ff)"
   ]
  },
  {
   "cell_type": "markdown",
   "metadata": {},
   "source": [
    "느낀점: 정말 느끼는 점이 많았다. "
   ]
  },
  {
   "cell_type": "code",
   "execution_count": null,
   "metadata": {
    "collapsed": true
   },
   "outputs": [],
   "source": []
  }
 ],
 "metadata": {
  "kernelspec": {
   "display_name": "Python 3",
   "language": "python",
   "name": "python3"
  },
  "language_info": {
   "codemirror_mode": {
    "name": "ipython",
    "version": 3
   },
   "file_extension": ".py",
   "mimetype": "text/x-python",
   "name": "python",
   "nbconvert_exporter": "python",
   "pygments_lexer": "ipython3",
   "version": "3.6.1"
  }
 },
 "nbformat": 4,
 "nbformat_minor": 2
}
